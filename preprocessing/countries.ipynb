{
 "cells": [
  {
   "cell_type": "code",
   "execution_count": 1,
   "metadata": {},
   "outputs": [],
   "source": [
    "import csv\n",
    "import re\n",
    "import pandas as pd"
   ]
  },
  {
   "cell_type": "code",
   "execution_count": 7,
   "metadata": {},
   "outputs": [],
   "source": [
    "try: \n",
    "    df = pd.read_csv(\"tweetsCopy.csv\", encoding = \"utf8\") \n",
    "    with open(\"tweetsCopy.csv\", 'r', encoding = 'utf-8') as csvfile:\n",
    "        reader = csv.reader(csvfile, delimiter=',')\n",
    "        next(reader)\n",
    "        i=0\n",
    "        for row in reader:\n",
    "            if len(row)>4:\n",
    "                loc = row[3]\n",
    "                country = row[4]\n",
    "                rex1 = re.compile('.*USA?.*|.*United States.*|.*LA.*|.*New York.*|.*CA.*|.*Boston.*|.*Los Angeles.*|.*San Francisco.*|.*NY.*|.*Washington.*|.*Miami.*')\n",
    "                if len(rex1.findall(loc))>0:\n",
    "                    country = re.sub(r\"None\", \"USA\", country)\n",
    "                    df.loc[i, 'Country_Code'] = country\n",
    "                rex2 = re.compile('.*UK.*|.*London.*|.*England.*|.*Britain.*|.*Sheffield.*|.*United Kingdom.*.*GBR.*')\n",
    "                if len(rex2.findall(loc))>0:\n",
    "                    country = re.sub(r\"None\", \"GBR\", country)\n",
    "                    df.loc[i, 'Country_Code'] = country\n",
    "                rex3 = re.compile('.*India.*|.*INDIA.*|.*Mumbai.*|.*Bangalore.*|.*Delhi.*')\n",
    "                if len(rex3.findall(loc))>0:\n",
    "                    country = re.sub(r\"None\", \"IND\", country)\n",
    "                    df.loc[i, 'Country_Code'] = country\n",
    "                rex4 = re.compile('.*Canada.*|.*Toronto.*')\n",
    "                if len(rex4.findall(loc))>0:\n",
    "                    country = re.sub(r\"None\", \"CAN\", country)\n",
    "                    df.loc[i, 'Country_Code'] = country\n",
    "                rex5 = re.compile('.*Islamabad.*|.*Lahore.*|.*Pakistan.*|.*PAKISTAN.*')\n",
    "                if len(rex5.findall(loc))>0:\n",
    "                    country = re.sub(r\"None\", \"PAK\", country)\n",
    "                    df.loc[i, 'Country_Code'] = country\n",
    "                rex6 = re.compile('.*Canberra.*|.*Sidney.*|.*Melbourne.*|.*Australia.*')\n",
    "                if len(rex6.findall(loc))>0:\n",
    "                    country = re.sub(r\"None\", \"AUS\", country)\n",
    "                    df.loc[i, 'Country_Code'] = country\n",
    "                rex7 = re.compile('.*China.*|.*Beijing.*|.*Wuhan.*|.*Shanghai.*')\n",
    "                if len(rex6.findall(loc))>0:\n",
    "                    country = re.sub(r\"None\", \"CHN\", country)\n",
    "                    df.loc[i, 'Country_Code'] = country\n",
    "                rex8 = re.compile('.*Brazil.*|.*Brasillia.*|.*Rio.*|.*Paolo.*')\n",
    "                if len(rex8.findall(loc))>0:\n",
    "                    country = re.sub(r\"None\", \"BRA\", country)\n",
    "                    df.loc[i, 'Country_Code'] = country\n",
    "            df.to_csv(\"tweetsCopy.csv\", index=False) \n",
    "            i = i+1\n",
    "except Exception:\n",
    "    pass"
   ]
  },
  {
   "cell_type": "code",
   "execution_count": null,
   "metadata": {},
   "outputs": [],
   "source": []
  },
  {
   "cell_type": "code",
   "execution_count": null,
   "metadata": {},
   "outputs": [],
   "source": []
  }
 ],
 "metadata": {
  "kernelspec": {
   "display_name": "Python 3",
   "language": "python",
   "name": "python3"
  },
  "language_info": {
   "codemirror_mode": {
    "name": "ipython",
    "version": 3
   },
   "file_extension": ".py",
   "mimetype": "text/x-python",
   "name": "python",
   "nbconvert_exporter": "python",
   "pygments_lexer": "ipython3",
   "version": "3.8.5"
  }
 },
 "nbformat": 4,
 "nbformat_minor": 2
}
