{
 "cells": [
  {
   "cell_type": "code",
   "execution_count": null,
   "metadata": {},
   "outputs": [],
   "source": [
    "from tweepy.streaming import StreamListener\n",
    "from tweepy import OAuthHandler\n",
    "from tweepy import Stream\n",
    "\n",
    "import csv\n",
    "import twitter_credentials"
   ]
  },
  {
   "cell_type": "code",
   "execution_count": null,
   "metadata": {},
   "outputs": [],
   "source": [
    "class StdOutListener(StreamListener):\n",
    "    \n",
    "    def _init_ (self):\n",
    "        pass\n",
    "    def on_status(self, status):\n",
    "        with open('tweets.csv', 'a') as f:\n",
    "            writer = csv.writer(f)\n",
    "            writer.writerow([status.id, status.author.screen_name, status.text, status.user.location, status.place.country_code if status.place and status.place.country_code else \"None\", status.place.country if status.place and status.place.country else \"None\", status.created_at])\n",
    "\n",
    "\n",
    "    #def on_data(self, data):\n",
    "        #try:\n",
    "            #tweet = data.split(',\"id')[0].split('\",\"text')[1].split('\",\"coordinates')[2].split('\",\"place')[3].split('\",\"country')[4].split('\",\"created_at')[5]\n",
    "           # saveMe = tweet+'\\n'\n",
    "            #with open(\"twitter.csv\", 'a') as tf:\n",
    "               # tf.write(saveMe)\n",
    "          #  return True\n",
    "       # except BaseException as e:\n",
    "        #    print(\"Error on_data %s\" % str(e))\n",
    "     #   return True\n",
    "\n",
    "    def on_error(self, status):\n",
    "        print(status)\n"
   ]
  },
  {
   "cell_type": "code",
   "execution_count": null,
   "metadata": {},
   "outputs": [],
   "source": [
    "if __name__ == '__main__':\n",
    "    hash_tag_list = [\"COVID-19\", \"COVIDsecondwave\"]\n",
    "    listener = StdOutListener()\n",
    "    with open('tweets.csv', 'w') as f:\n",
    "        writer = csv.writer(f)\n",
    "        writer.writerow(['id', 'Author', 'Text', 'User Location', 'Country_Code','Tweet Country', 'created_at'])\n",
    "    auth = OAuthHandler(twitter_credentials.API_Key, twitter_credentials.API_Secret_key)\n",
    "    auth.set_access_token(twitter_credentials.Access_Token, twitter_credentials.Access_Token_Secret)\n",
    "    stream = Stream(auth, listener)\n",
    "    stream.filter(track=hash_tag_list, languages = [\"en\"])"
   ]
  },
  {
   "cell_type": "code",
   "execution_count": null,
   "metadata": {},
   "outputs": [],
   "source": []
  }
 ],
 "metadata": {
  "kernelspec": {
   "display_name": "Python 3",
   "language": "python",
   "name": "python3"
  },
  "language_info": {
   "codemirror_mode": {
    "name": "ipython",
    "version": 3
   },
   "file_extension": ".py",
   "mimetype": "text/x-python",
   "name": "python",
   "nbconvert_exporter": "python",
   "pygments_lexer": "ipython3",
   "version": "3.8.5"
  }
 },
 "nbformat": 4,
 "nbformat_minor": 1
}
